{
  "nbformat": 4,
  "nbformat_minor": 0,
  "metadata": {
    "colab": {
      "name": "S7 Assignment Final  .ipynb",
      "provenance": [],
      "collapsed_sections": []
    },
    "kernelspec": {
      "name": "python3",
      "display_name": "Python 3"
    },
    "accelerator": "GPU"
  },
  "cells": [
    {
      "cell_type": "markdown",
      "metadata": {
        "id": "KAudPNn98rT6",
        "colab_type": "text"
      },
      "source": [
        "# Import Libraries"
      ]
    },
    {
      "cell_type": "code",
      "metadata": {
        "id": "eiwE-0jPImT1",
        "colab_type": "code",
        "outputId": "50b66663-5704-440d-ef12-c0342b5f1e37",
        "colab": {
          "base_uri": "https://localhost:8080/",
          "height": 34
        }
      },
      "source": [
        "from __future__ import print_function\n",
        "import numpy as np\n",
        "import torch\n",
        "import torch.nn as nn\n",
        "import torch.nn.functional as F\n",
        "import torch.optim as optim\n",
        "import torchvision\n",
        "from torchvision import datasets, transforms\n",
        "\n",
        "from IPython.display import Image # to display PIL images\n",
        "import matplotlib.pyplot as plt\n",
        "%matplotlib inline\n",
        "\n",
        "!pip install torchsummary"
      ],
      "execution_count": 0,
      "outputs": [
        {
          "output_type": "stream",
          "text": [
            "Requirement already satisfied: torchsummary in /usr/local/lib/python3.6/dist-packages (1.5.1)\n"
          ],
          "name": "stdout"
        }
      ]
    },
    {
      "cell_type": "markdown",
      "metadata": {
        "id": "A-LG24s685Eg",
        "colab_type": "text"
      },
      "source": [
        "#DataTransforms \n"
      ]
    },
    {
      "cell_type": "code",
      "metadata": {
        "id": "XjKqcs4IC-_r",
        "colab_type": "code",
        "colab": {}
      },
      "source": [
        ""
      ],
      "execution_count": 0,
      "outputs": []
    },
    {
      "cell_type": "code",
      "metadata": {
        "colab_type": "code",
        "outputId": "46a522cf-7c45-4fb4-f714-97d6f6125db7",
        "id": "x2BRduWMC_dK",
        "colab": {
          "base_uri": "https://localhost:8080/",
          "height": 85
        }
      },
      "source": [
        "transform = transforms.Compose(\n",
        "    [transforms.ToTensor(),\n",
        "     transforms.Normalize((0.5, 0.5, 0.5), (0.5, 0.5, 0.5))])\n",
        "train_transforms = transforms.Compose([\n",
        "                                    #    transforms.Resize((32, 32)), # all the data is already in this shape\n",
        "                                       transforms.RandomAffine(degrees=10, shear = 10),\n",
        "                                       transforms.ToTensor() ,\n",
        "                                       transforms.Normalize((0.1307,), (0.3081,)),\n",
        "                                       ])\n",
        "\n",
        "# Test Phase transformations\n",
        "test_transforms = transforms.Compose([\n",
        "                                       transforms.ToTensor(),\n",
        "                                       transforms.Normalize((0.1307,), (0.3081,)),\n",
        "                                       ])\n",
        "\n",
        "trainset = torchvision.datasets.CIFAR10(root='./data', train=True,\n",
        "                                        download=True, transform=transform)\n",
        "trainloader = torch.utils.data.DataLoader(trainset, batch_size=4,\n",
        "                                          shuffle=True, num_workers=2)\n",
        "\n",
        "testset = torchvision.datasets.CIFAR10(root='./data', train=False,\n",
        "                                       download=True, transform=transform)\n",
        "testloader = torch.utils.data.DataLoader(testset, batch_size=4,\n",
        "                                         shuffle=False, num_workers=2)\n",
        "\n",
        "classes = ('plane', 'car', 'bird', 'cat',\n",
        "           'deer', 'dog', 'frog', 'horse', 'ship', 'truck')\n",
        "\n",
        "train_data = datasets.CIFAR10('./data', train=True, download=True, transform=train_transforms)\n",
        "test_data = datasets.CIFAR10('./data', train=False, download=True, transform=test_transforms)\n",
        "\n"
      ],
      "execution_count": 0,
      "outputs": [
        {
          "output_type": "stream",
          "text": [
            "Files already downloaded and verified\n",
            "Files already downloaded and verified\n",
            "Files already downloaded and verified\n",
            "Files already downloaded and verified\n"
          ],
          "name": "stdout"
        }
      ]
    },
    {
      "cell_type": "markdown",
      "metadata": {
        "id": "A9KPFQdM_RDj",
        "colab_type": "text"
      },
      "source": [
        "#CUDA?"
      ]
    },
    {
      "cell_type": "code",
      "metadata": {
        "id": "C8OLDR79DrHG",
        "colab_type": "code",
        "outputId": "1312ced7-291a-49fc-e549-e167a28483ab",
        "colab": {
          "base_uri": "https://localhost:8080/",
          "height": 34
        }
      },
      "source": [
        "SEED = 1\n",
        "\n",
        "# CUDA?\n",
        "cuda = torch.cuda.is_available()\n",
        "print(\"CUDA Available?\", cuda)\n",
        "\n",
        "# For reproducibility\n",
        "torch.manual_seed(SEED)\n",
        "\n",
        "if cuda:\n",
        "    torch.cuda.manual_seed(SEED)\n",
        "\n",
        "# dataloader arguments - something you'll fetch these from cmdprmt\n",
        "dataloader_args = dict(shuffle=True, batch_size=64, num_workers=4, pin_memory=True) if cuda else dict(shuffle=True, batch_size=64)\n",
        "\n",
        "# train dataloader\n",
        "train_loader = torch.utils.data.DataLoader(train_data, **dataloader_args)\n",
        "\n",
        "# test dataloader\n",
        "test_loader = torch.utils.data.DataLoader(test_data, **dataloader_args)"
      ],
      "execution_count": 0,
      "outputs": [
        {
          "output_type": "stream",
          "text": [
            "CUDA Available? True\n"
          ],
          "name": "stdout"
        }
      ]
    },
    {
      "cell_type": "code",
      "metadata": {
        "id": "2_Y6S_e1gbpS",
        "colab_type": "code",
        "colab": {}
      },
      "source": [
        ""
      ],
      "execution_count": 0,
      "outputs": []
    },
    {
      "cell_type": "code",
      "metadata": {
        "id": "JLpjihQII8EQ",
        "colab_type": "code",
        "outputId": "b0696f51-6269-46ca-e4c4-d8aba7232f93",
        "colab": {
          "base_uri": "https://localhost:8080/",
          "height": 155
        }
      },
      "source": [
        "import matplotlib.pyplot as plt\n",
        "import numpy as np\n",
        "\n",
        "# functions to show an image\n",
        "\n",
        "\n",
        "def imshow(img):\n",
        "    img = img / 2 + 0.5     # unnormalize\n",
        "    npimg = img.numpy()\n",
        "    plt.imshow(np.transpose(npimg, (1, 2, 0)))\n",
        "\n",
        "\n",
        "# get some random training images\n",
        "dataiter = iter(trainloader)\n",
        "images, labels = dataiter.next()\n",
        "\n",
        "# show images\n",
        "imshow(torchvision.utils.make_grid(images))\n",
        "# print labels\n",
        "print(' '.join('%5s' % classes[labels[j]] for j in range(4)))"
      ],
      "execution_count": 0,
      "outputs": [
        {
          "output_type": "stream",
          "text": [
            "plane   dog  deer  deer\n"
          ],
          "name": "stdout"
        },
        {
          "output_type": "display_data",
          "data": {
            "image/png": "[encoded data removed]",
            "text/plain": [
              "<Figure size 432x288 with 1 Axes>"
            ]
          },
          "metadata": {
            "tags": []
          }
        }
      ]
    },
    {
      "cell_type": "code",
      "metadata": {
        "id": "FfsePP85JC8y",
        "colab_type": "code",
        "colab": {}
      },
      "source": [
        "\n",
        "\n",
        "class Net(nn.Module):\n",
        "    def __init__(self):\n",
        "        super(Net, self).__init__()\n",
        "\n",
        "        #Convolution Block #1\n",
        "        self.conv1 = conv_block(in_channels=3, out_channels=32, kernel_size=3, padding=2, dilation=2, bias=False)      \n",
        "        #input :32x32x3    k=3x3  kernel_size=32(3x3x3x32)  output=32x32x32      RF:5    \n",
        "        self.conv2 = conv_block(in_channels=32, out_channels=64, kernel_size=3, padding=2, dilation=2, dropout=0.1,  bias=False)     \n",
        "        #input:32x32x32   k=3x3 , kernel_size=64(3x3x32x64)     output=32x32x64      RF:9 \n",
        "\n",
        "        #MaxPool #1\n",
        "        self.pool = nn.MaxPool2d(2, 2)                                                                                  \n",
        "        #input:32x32x64   k=2x2 kernel_size=2 output=16x16x64      RF:10\n",
        "\n",
        "        #ConvolutionBlock #2\n",
        "        self.conv3 = conv_block(in_channels=64, out_channels=64*3, kernel_size=3, padding=1, bias=False, groups=64)     \n",
        "      \n",
        "        #input:16x16x64   k=3x3  kernel_size=32((3x3x1)64x3)  output=16x16x(64*3)     RF:14       \n",
        "       \n",
        "        self.conv4 = conv_block(in_channels=64*3, out_channels=128, kernel_size=1, bias=False)   \n",
        "        #input:16x16x(64*3)   k=1x1 kernel_size=128(1x1x32x128)  output=16x16x128     RF:14\n",
        "\n",
        "        #maxpool #2\n",
        "        self.pool = nn.MaxPool2d(2, 2) \n",
        "        #input:16x16x128   k=2x2 , output=8x8x128      RF:16\n",
        "\n",
        "        #convolution Block#3\n",
        "        self.conv5 = conv_block(in_channels=128, out_channels=32, kernel_size=1, dropout=0.1, bias=False)                 \n",
        "        #input:8x8x128   k=1x1 ,kernel_size=32(3x3x1x32)   output=8x8x32     RF:16\n",
        "\n",
        "        self.conv6 = conv_block(in_channels=32, out_channels=64, kernel_size=3, dropout=0.1, padding=1, bias=False)                  \n",
        "        #input:8x8x32    k=3x3 kernel_size=64(3x3x32x64)  output=8x8x64     RF:24\n",
        "\n",
        "        self.conv7 = conv_block(in_channels=64, out_channels=128, kernel_size=3, dropout=0.2, padding=1, bias=False)                \n",
        "         #input:8x8x64   k=3x3 ,kerenel_size=128(3x3x64x128) output=8x8x128    RF:32\n",
        "\n",
        "        #maxpool #2\n",
        "        self.pool = nn.MaxPool2d(2, 2)                                                                                 \n",
        "         #input:8x8x128   k=2x2 ,kerenel_size=2   output=4x4x128    RF:36\n",
        "\n",
        "        \n",
        "        self.conv8 = nn.Conv2d(in_channels=128, out_channels=64, kernel_size=3, padding=1, bias=False)                 \n",
        "         #input:4x4x128  k=3x3 kernel_size=64    output:4x4x64    RF:42\n",
        "        self.gap = nn.AvgPool2d(kernel_size=4)            \n",
        "         #input:4x4x64   k=4 , kernel_size=4,      output:1x1x64    RF:46\n",
        "        self.final = nn.Conv2d(in_channels=64, out_channels=10, kernel_size=1, bias=False) \n",
        "         #input:1x1x64   k=1, kernel_size=10    o:1x1x10    RF:60\n",
        "\n",
        "    def forward(self, x):\n",
        "        x=self.conv1(x)\n",
        "        x=self.conv2(x)\n",
        "        x=self.pool(x)\n",
        "        x=self.conv3(x)\n",
        "        x=self.conv4(x)\n",
        "        x=self.pool(x)\n",
        "        x=self.conv5(x)\n",
        "        x=self.conv6(x)\n",
        "        x=self.conv7(x)\n",
        "        x=self.pool(x)\n",
        "        x=self.conv8(x)\n",
        "        x=self.gap(x)\n",
        "        x=self.final(x)\n",
        "        x = x.view(-1, 10)                           \n",
        "        return F.log_softmax(x)\n",
        "\n",
        "\n",
        "        "
      ],
      "execution_count": 0,
      "outputs": []
    },
    {
      "cell_type": "code",
      "metadata": {
        "id": "5skB97zIJQQe",
        "colab_type": "code",
        "outputId": "56e7a655-e5aa-4b91-810d-4fcdd0f88606",
        "colab": {
          "base_uri": "https://localhost:8080/",
          "height": 887
        }
      },
      "source": [
        "!pip install torchsummary\n",
        "from torchsummary import summary\n",
        "use_cuda = torch.cuda.is_available()\n",
        "device = torch.device(\"cuda\" if use_cuda else \"cpu\")\n",
        "print(device)\n",
        "model = Net().to(device)\n",
        "summary(model, input_size=(3,32,32))"
      ],
      "execution_count": 0,
      "outputs": [
        {
          "output_type": "stream",
          "text": [
            "Requirement already satisfied: torchsummary in /usr/local/lib/python3.6/dist-packages (1.5.1)\n",
            "cuda\n",
            "----------------------------------------------------------------\n",
            "        Layer (type)               Output Shape         Param #\n",
            "================================================================\n",
            "            Conv2d-1           [-1, 32, 32, 32]             864\n",
            "       BatchNorm2d-2           [-1, 32, 32, 32]              64\n",
            "              ReLU-3           [-1, 32, 32, 32]               0\n",
            "           Dropout-4           [-1, 32, 32, 32]               0\n",
            "            Conv2d-5           [-1, 64, 32, 32]          18,432\n",
            "       BatchNorm2d-6           [-1, 64, 32, 32]             128\n",
            "              ReLU-7           [-1, 64, 32, 32]               0\n",
            "           Dropout-8           [-1, 64, 32, 32]               0\n",
            "         MaxPool2d-9           [-1, 64, 16, 16]               0\n",
            "           Conv2d-10          [-1, 192, 16, 16]           1,728\n",
            "      BatchNorm2d-11          [-1, 192, 16, 16]             384\n",
            "             ReLU-12          [-1, 192, 16, 16]               0\n",
            "          Dropout-13          [-1, 192, 16, 16]               0\n",
            "           Conv2d-14          [-1, 128, 16, 16]          24,576\n",
            "      BatchNorm2d-15          [-1, 128, 16, 16]             256\n",
            "             ReLU-16          [-1, 128, 16, 16]               0\n",
            "          Dropout-17          [-1, 128, 16, 16]               0\n",
            "        MaxPool2d-18            [-1, 128, 8, 8]               0\n",
            "           Conv2d-19             [-1, 32, 8, 8]           4,096\n",
            "      BatchNorm2d-20             [-1, 32, 8, 8]              64\n",
            "             ReLU-21             [-1, 32, 8, 8]               0\n",
            "          Dropout-22             [-1, 32, 8, 8]               0\n",
            "           Conv2d-23             [-1, 64, 8, 8]          18,432\n",
            "      BatchNorm2d-24             [-1, 64, 8, 8]             128\n",
            "             ReLU-25             [-1, 64, 8, 8]               0\n",
            "          Dropout-26             [-1, 64, 8, 8]               0\n",
            "           Conv2d-27            [-1, 128, 8, 8]          73,728\n",
            "      BatchNorm2d-28            [-1, 128, 8, 8]             256\n",
            "             ReLU-29            [-1, 128, 8, 8]               0\n",
            "          Dropout-30            [-1, 128, 8, 8]               0\n",
            "        MaxPool2d-31            [-1, 128, 4, 4]               0\n",
            "           Conv2d-32             [-1, 64, 4, 4]          73,728\n",
            "        AvgPool2d-33             [-1, 64, 1, 1]               0\n",
            "           Conv2d-34             [-1, 10, 1, 1]             640\n",
            "================================================================\n",
            "Total params: 217,504\n",
            "Trainable params: 217,504\n",
            "Non-trainable params: 0\n",
            "----------------------------------------------------------------\n",
            "Input size (MB): 0.01\n",
            "Forward/backward pass size (MB): 6.15\n",
            "Params size (MB): 0.83\n",
            "Estimated Total Size (MB): 6.99\n",
            "----------------------------------------------------------------\n"
          ],
          "name": "stdout"
        },
        {
          "output_type": "stream",
          "text": [
            "/usr/local/lib/python3.6/dist-packages/ipykernel_launcher.py:66: UserWarning: Implicit dimension choice for log_softmax has been deprecated. Change the call to include dim=X as an argument.\n"
          ],
          "name": "stderr"
        }
      ]
    },
    {
      "cell_type": "code",
      "metadata": {
        "id": "C25nCkSBq_78",
        "colab_type": "code",
        "colab": {}
      },
      "source": [
        ""
      ],
      "execution_count": 0,
      "outputs": []
    },
    {
      "cell_type": "code",
      "metadata": {
        "id": "3w-c4_B_Jo2S",
        "colab_type": "code",
        "colab": {}
      },
      "source": [
        "from tqdm import tqdm\n",
        "\n",
        "train_losses = []\n",
        "test_losses = []\n",
        "train_acc = []\n",
        "test_acc = []\n",
        "\n",
        "def train(model, device, train_loader, optimizer):\n",
        "  model.train()\n",
        "  pbar = tqdm(train_loader)\n",
        "\n",
        "  correct = 0\n",
        "  processed = 0\n",
        "\n",
        "  for batch_idx, (data, target) in enumerate (pbar):\n",
        "    data, target = data.to(device), target.to(device)\n",
        "\n",
        "    #Don't want history of gradients \n",
        "    optimizer.zero_grad()\n",
        "\n",
        "    y_predict = model(data)\n",
        "\n",
        "    # Caluclate loss\n",
        "    loss = F.nll_loss(y_predict, target)\n",
        "    train_losses.append(loss)\n",
        "\n",
        "    # Back propogate error\n",
        "    loss.backward()\n",
        "\n",
        "    # Take a optimzer step\n",
        "    optimizer.step()\n",
        "\n",
        "    # Update pbar-tqdm\n",
        "    \n",
        "    pred = y_predict.argmax(dim=1, keepdim=True)  # get the index of the max log-probability\n",
        "    correct += pred.eq(target.view_as(pred)).sum().item()\n",
        "    processed += len(data)\n",
        "\n",
        "    pbar.set_description(desc= f'Loss={loss.item()} Batch_id={batch_idx} Accuracy={100*correct/processed:0.4f}')\n",
        "    train_acc.append(100*correct/processed)\n",
        "\n",
        "\n",
        "def test (model, device, test_loader):\n",
        "  model.eval()\n",
        "\n",
        "  test_loss = 0\n",
        "  correct = 0\n",
        "\n",
        "  with torch.no_grad():\n",
        "    for data, target in test_loader:\n",
        "      data, target = data.to(device), target.to(device)\n",
        "\n",
        "      output = model(data)\n",
        "\n",
        "      test_loss += F.nll_loss(output, target, reduction='sum').item()  # sum up batch loss\n",
        "      pred = output.argmax(dim=1, keepdim=True)  # get the index of the max log-probability\n",
        "      correct += pred.eq(target.view_as(pred)).sum().item()\n",
        "\n",
        "  test_loss /= len(test_loader.dataset)\n",
        "  test_losses.append(test_loss)\n",
        "\n",
        "  print('\\nTest set: Average loss: {:.4f}, Accuracy: {}/{} ({:.2f}%)\\n'.format(\n",
        "    test_loss, correct, len(test_loader.dataset),\n",
        "    100. * correct / len(test_loader.dataset)))\n",
        "    \n",
        "  test_acc.append(100. * correct / len(test_loader.dataset))"
      ],
      "execution_count": 0,
      "outputs": []
    },
    {
      "cell_type": "code",
      "metadata": {
        "id": "WdvPscozJqjG",
        "colab_type": "code",
        "outputId": "855db2ef-7819-40dc-9998-a865f5a41768",
        "colab": {
          "base_uri": "https://localhost:8080/",
          "height": 34
        }
      },
      "source": [
        "use_cuda = torch.cuda.is_available()\n",
        "device = torch.device(\"cuda\" if use_cuda else \"cpu\")\n",
        "print(device)\n",
        "model =  Net().to(device)\n",
        "criteria = nn.CrossEntropyLoss()\n",
        "optimizer = optim.SGD(model.parameters(), lr = 0.01, momentum=0.9)"
      ],
      "execution_count": 0,
      "outputs": [
        {
          "output_type": "stream",
          "text": [
            "cuda\n"
          ],
          "name": "stdout"
        }
      ]
    },
    {
      "cell_type": "code",
      "metadata": {
        "id": "wH2Z_KNZJxN6",
        "colab_type": "code",
        "outputId": "383c978b-1a7d-46d8-bbfc-f1013396cda3",
        "colab": {
          "base_uri": "https://localhost:8080/",
          "height": 1000
        }
      },
      "source": [
        "EPOCHS = 25\n",
        "for epoch in range(EPOCHS):\n",
        "    print(\"EPOCH:\", epoch)\n",
        "    train(model, device, train_loader, optimizer)\n",
        "    # scheduler.step()\n",
        "    test(model, device, test_loader)\n",
        "\n",
        "\n",
        "    "
      ],
      "execution_count": 0,
      "outputs": [
        {
          "output_type": "stream",
          "text": [
            "\r  0%|          | 0/782 [00:00<?, ?it/s]"
          ],
          "name": "stderr"
        },
        {
          "output_type": "stream",
          "text": [
            "EPOCH: 0\n"
          ],
          "name": "stdout"
        },
        {
          "output_type": "stream",
          "text": [
            "/usr/local/lib/python3.6/dist-packages/ipykernel_launcher.py:66: UserWarning: Implicit dimension choice for log_softmax has been deprecated. Change the call to include dim=X as an argument.\n",
            "Loss=1.077009916305542 Batch_id=781 Accuracy=45.9040: 100%|██████████| 782/782 [00:19<00:00, 40.45it/s]\n",
            "  0%|          | 0/782 [00:00<?, ?it/s]"
          ],
          "name": "stderr"
        },
        {
          "output_type": "stream",
          "text": [
            "\n",
            "Test set: Average loss: 1.3963, Accuracy: 4911/10000 (49.11%)\n",
            "\n",
            "EPOCH: 1\n"
          ],
          "name": "stdout"
        },
        {
          "output_type": "stream",
          "text": [
            "Loss=1.5462054014205933 Batch_id=781 Accuracy=59.6780: 100%|██████████| 782/782 [00:19<00:00, 40.93it/s]\n",
            "  0%|          | 0/782 [00:00<?, ?it/s]"
          ],
          "name": "stderr"
        },
        {
          "output_type": "stream",
          "text": [
            "\n",
            "Test set: Average loss: 1.1065, Accuracy: 5987/10000 (59.87%)\n",
            "\n",
            "EPOCH: 2\n"
          ],
          "name": "stdout"
        },
        {
          "output_type": "stream",
          "text": [
            "Loss=1.223622441291809 Batch_id=781 Accuracy=64.4560: 100%|██████████| 782/782 [00:19<00:00, 40.91it/s]\n",
            "  0%|          | 0/782 [00:00<?, ?it/s]"
          ],
          "name": "stderr"
        },
        {
          "output_type": "stream",
          "text": [
            "\n",
            "Test set: Average loss: 0.9824, Accuracy: 6491/10000 (64.91%)\n",
            "\n",
            "EPOCH: 3\n"
          ],
          "name": "stdout"
        },
        {
          "output_type": "stream",
          "text": [
            "Loss=0.616654098033905 Batch_id=781 Accuracy=67.3400: 100%|██████████| 782/782 [00:19<00:00, 41.08it/s]\n",
            "  0%|          | 0/782 [00:00<?, ?it/s]"
          ],
          "name": "stderr"
        },
        {
          "output_type": "stream",
          "text": [
            "\n",
            "Test set: Average loss: 0.8610, Accuracy: 7023/10000 (70.23%)\n",
            "\n",
            "EPOCH: 4\n"
          ],
          "name": "stdout"
        },
        {
          "output_type": "stream",
          "text": [
            "Loss=1.5552135705947876 Batch_id=781 Accuracy=69.7820: 100%|██████████| 782/782 [00:18<00:00, 41.57it/s]\n",
            "  0%|          | 0/782 [00:00<?, ?it/s]"
          ],
          "name": "stderr"
        },
        {
          "output_type": "stream",
          "text": [
            "\n",
            "Test set: Average loss: 0.8765, Accuracy: 6957/10000 (69.57%)\n",
            "\n",
            "EPOCH: 5\n"
          ],
          "name": "stdout"
        },
        {
          "output_type": "stream",
          "text": [
            "Loss=0.7962995171546936 Batch_id=781 Accuracy=71.3360: 100%|██████████| 782/782 [00:18<00:00, 41.20it/s]\n",
            "  0%|          | 0/782 [00:00<?, ?it/s]"
          ],
          "name": "stderr"
        },
        {
          "output_type": "stream",
          "text": [
            "\n",
            "Test set: Average loss: 0.8276, Accuracy: 7064/10000 (70.64%)\n",
            "\n",
            "EPOCH: 6\n"
          ],
          "name": "stdout"
        },
        {
          "output_type": "stream",
          "text": [
            "Loss=0.4085195064544678 Batch_id=781 Accuracy=72.8680: 100%|██████████| 782/782 [00:18<00:00, 41.23it/s]\n",
            "  0%|          | 0/782 [00:00<?, ?it/s]"
          ],
          "name": "stderr"
        },
        {
          "output_type": "stream",
          "text": [
            "\n",
            "Test set: Average loss: 0.7373, Accuracy: 7424/10000 (74.24%)\n",
            "\n",
            "EPOCH: 7\n"
          ],
          "name": "stdout"
        },
        {
          "output_type": "stream",
          "text": [
            "Loss=0.8509893417358398 Batch_id=781 Accuracy=74.2040: 100%|██████████| 782/782 [00:18<00:00, 41.95it/s]\n",
            "  0%|          | 0/782 [00:00<?, ?it/s]"
          ],
          "name": "stderr"
        },
        {
          "output_type": "stream",
          "text": [
            "\n",
            "Test set: Average loss: 0.7105, Accuracy: 7534/10000 (75.34%)\n",
            "\n",
            "EPOCH: 8\n"
          ],
          "name": "stdout"
        },
        {
          "output_type": "stream",
          "text": [
            "Loss=0.9079614877700806 Batch_id=781 Accuracy=74.8460: 100%|██████████| 782/782 [00:18<00:00, 42.26it/s]\n",
            "  0%|          | 0/782 [00:00<?, ?it/s]"
          ],
          "name": "stderr"
        },
        {
          "output_type": "stream",
          "text": [
            "\n",
            "Test set: Average loss: 0.6719, Accuracy: 7710/10000 (77.10%)\n",
            "\n",
            "EPOCH: 9\n"
          ],
          "name": "stdout"
        },
        {
          "output_type": "stream",
          "text": [
            "Loss=1.218879222869873 Batch_id=781 Accuracy=76.2400: 100%|██████████| 782/782 [00:18<00:00, 42.39it/s]\n",
            "  0%|          | 0/782 [00:00<?, ?it/s]"
          ],
          "name": "stderr"
        },
        {
          "output_type": "stream",
          "text": [
            "\n",
            "Test set: Average loss: 0.6823, Accuracy: 7659/10000 (76.59%)\n",
            "\n",
            "EPOCH: 10\n"
          ],
          "name": "stdout"
        },
        {
          "output_type": "stream",
          "text": [
            "Loss=0.8687474727630615 Batch_id=781 Accuracy=76.9040: 100%|██████████| 782/782 [00:18<00:00, 49.62it/s]\n",
            "  0%|          | 0/782 [00:00<?, ?it/s]"
          ],
          "name": "stderr"
        },
        {
          "output_type": "stream",
          "text": [
            "\n",
            "Test set: Average loss: 0.6819, Accuracy: 7613/10000 (76.13%)\n",
            "\n",
            "EPOCH: 11\n"
          ],
          "name": "stdout"
        },
        {
          "output_type": "stream",
          "text": [
            "Loss=0.9157772064208984 Batch_id=781 Accuracy=77.5780: 100%|██████████| 782/782 [00:18<00:00, 42.79it/s]\n",
            "  0%|          | 0/782 [00:00<?, ?it/s]"
          ],
          "name": "stderr"
        },
        {
          "output_type": "stream",
          "text": [
            "\n",
            "Test set: Average loss: 0.6705, Accuracy: 7682/10000 (76.82%)\n",
            "\n",
            "EPOCH: 12\n"
          ],
          "name": "stdout"
        },
        {
          "output_type": "stream",
          "text": [
            "Loss=0.7903655767440796 Batch_id=781 Accuracy=78.3640: 100%|██████████| 782/782 [00:18<00:00, 43.17it/s]\n",
            "  0%|          | 0/782 [00:00<?, ?it/s]"
          ],
          "name": "stderr"
        },
        {
          "output_type": "stream",
          "text": [
            "\n",
            "Test set: Average loss: 0.6274, Accuracy: 7792/10000 (77.92%)\n",
            "\n",
            "EPOCH: 13\n"
          ],
          "name": "stdout"
        },
        {
          "output_type": "stream",
          "text": [
            "Loss=1.3569997549057007 Batch_id=781 Accuracy=78.6220: 100%|██████████| 782/782 [00:18<00:00, 43.00it/s]\n",
            "  0%|          | 0/782 [00:00<?, ?it/s]"
          ],
          "name": "stderr"
        },
        {
          "output_type": "stream",
          "text": [
            "\n",
            "Test set: Average loss: 0.5996, Accuracy: 7919/10000 (79.19%)\n",
            "\n",
            "EPOCH: 14\n"
          ],
          "name": "stdout"
        },
        {
          "output_type": "stream",
          "text": [
            "Loss=0.4636343717575073 Batch_id=781 Accuracy=79.3860: 100%|██████████| 782/782 [00:18<00:00, 49.55it/s]\n",
            "  0%|          | 0/782 [00:00<?, ?it/s]"
          ],
          "name": "stderr"
        },
        {
          "output_type": "stream",
          "text": [
            "\n",
            "Test set: Average loss: 0.6074, Accuracy: 7886/10000 (78.86%)\n",
            "\n",
            "EPOCH: 15\n"
          ],
          "name": "stdout"
        },
        {
          "output_type": "stream",
          "text": [
            "Loss=0.746337354183197 Batch_id=781 Accuracy=79.9940: 100%|██████████| 782/782 [00:18<00:00, 42.96it/s]\n",
            "  0%|          | 0/782 [00:00<?, ?it/s]"
          ],
          "name": "stderr"
        },
        {
          "output_type": "stream",
          "text": [
            "\n",
            "Test set: Average loss: 0.5849, Accuracy: 8013/10000 (80.13%)\n",
            "\n",
            "EPOCH: 16\n"
          ],
          "name": "stdout"
        },
        {
          "output_type": "stream",
          "text": [
            "Loss=0.39123770594596863 Batch_id=781 Accuracy=80.3580: 100%|██████████| 782/782 [00:18<00:00, 43.09it/s]\n",
            "  0%|          | 0/782 [00:00<?, ?it/s]"
          ],
          "name": "stderr"
        },
        {
          "output_type": "stream",
          "text": [
            "\n",
            "Test set: Average loss: 0.5967, Accuracy: 7942/10000 (79.42%)\n",
            "\n",
            "EPOCH: 17\n"
          ],
          "name": "stdout"
        },
        {
          "output_type": "stream",
          "text": [
            "Loss=1.6448001861572266 Batch_id=781 Accuracy=80.8600: 100%|██████████| 782/782 [00:18<00:00, 43.36it/s]\n",
            "  0%|          | 0/782 [00:00<?, ?it/s]"
          ],
          "name": "stderr"
        },
        {
          "output_type": "stream",
          "text": [
            "\n",
            "Test set: Average loss: 0.6407, Accuracy: 7760/10000 (77.60%)\n",
            "\n",
            "EPOCH: 18\n"
          ],
          "name": "stdout"
        },
        {
          "output_type": "stream",
          "text": [
            "Loss=0.7878073453903198 Batch_id=781 Accuracy=80.9760: 100%|██████████| 782/782 [00:17<00:00, 43.49it/s]\n",
            "  0%|          | 0/782 [00:00<?, ?it/s]"
          ],
          "name": "stderr"
        },
        {
          "output_type": "stream",
          "text": [
            "\n",
            "Test set: Average loss: 0.5700, Accuracy: 8031/10000 (80.31%)\n",
            "\n",
            "EPOCH: 19\n"
          ],
          "name": "stdout"
        },
        {
          "output_type": "stream",
          "text": [
            "Loss=0.3221472501754761 Batch_id=781 Accuracy=81.5720: 100%|██████████| 782/782 [00:17<00:00, 44.05it/s]\n",
            "  0%|          | 0/782 [00:00<?, ?it/s]"
          ],
          "name": "stderr"
        },
        {
          "output_type": "stream",
          "text": [
            "\n",
            "Test set: Average loss: 0.6106, Accuracy: 7866/10000 (78.66%)\n",
            "\n",
            "EPOCH: 20\n"
          ],
          "name": "stdout"
        },
        {
          "output_type": "stream",
          "text": [
            "Loss=0.7409795522689819 Batch_id=781 Accuracy=81.6980: 100%|██████████| 782/782 [00:17<00:00, 44.23it/s]\n",
            "  0%|          | 0/782 [00:00<?, ?it/s]"
          ],
          "name": "stderr"
        },
        {
          "output_type": "stream",
          "text": [
            "\n",
            "Test set: Average loss: 0.5734, Accuracy: 8044/10000 (80.44%)\n",
            "\n",
            "EPOCH: 21\n"
          ],
          "name": "stdout"
        },
        {
          "output_type": "stream",
          "text": [
            "Loss=0.5788601040840149 Batch_id=781 Accuracy=82.3440: 100%|██████████| 782/782 [00:17<00:00, 44.00it/s]\n",
            "  0%|          | 0/782 [00:00<?, ?it/s]"
          ],
          "name": "stderr"
        },
        {
          "output_type": "stream",
          "text": [
            "\n",
            "Test set: Average loss: 0.5594, Accuracy: 8043/10000 (80.43%)\n",
            "\n",
            "EPOCH: 22\n"
          ],
          "name": "stdout"
        },
        {
          "output_type": "stream",
          "text": [
            "Loss=0.23768189549446106 Batch_id=781 Accuracy=82.2780: 100%|██████████| 782/782 [00:17<00:00, 43.83it/s]\n",
            "  0%|          | 0/782 [00:00<?, ?it/s]"
          ],
          "name": "stderr"
        },
        {
          "output_type": "stream",
          "text": [
            "\n",
            "Test set: Average loss: 0.5462, Accuracy: 8105/10000 (81.05%)\n",
            "\n",
            "EPOCH: 23\n"
          ],
          "name": "stdout"
        },
        {
          "output_type": "stream",
          "text": [
            "Loss=0.590128481388092 Batch_id=781 Accuracy=82.8580: 100%|██████████| 782/782 [00:17<00:00, 44.20it/s]\n",
            "  0%|          | 0/782 [00:00<?, ?it/s]"
          ],
          "name": "stderr"
        },
        {
          "output_type": "stream",
          "text": [
            "\n",
            "Test set: Average loss: 0.5404, Accuracy: 8142/10000 (81.42%)\n",
            "\n",
            "EPOCH: 24\n"
          ],
          "name": "stdout"
        },
        {
          "output_type": "stream",
          "text": [
            "Loss=0.5686523914337158 Batch_id=781 Accuracy=82.8520: 100%|██████████| 782/782 [00:17<00:00, 44.64it/s]\n"
          ],
          "name": "stderr"
        },
        {
          "output_type": "stream",
          "text": [
            "\n",
            "Test set: Average loss: 0.5525, Accuracy: 8099/10000 (80.99%)\n",
            "\n"
          ],
          "name": "stdout"
        }
      ]
    },
    {
      "cell_type": "code",
      "metadata": {
        "id": "91i6rebCrmKt",
        "colab_type": "code",
        "outputId": "7d4b374a-dd8c-4d46-e1fb-23cb1e1611f4",
        "colab": {
          "base_uri": "https://localhost:8080/",
          "height": 624
        }
      },
      "source": [
        "fig, axs = plt.subplots(2,2,figsize=(15,10))\n",
        "axs[0, 0].plot(train_losses)\n",
        "axs[0, 0].set_title(\"Training Loss\")\n",
        "axs[1, 0].plot(train_acc)\n",
        "axs[1, 0].set_title(\"Training Accuracy\")\n",
        "axs[0, 1].plot(test_losses)\n",
        "axs[0, 1].set_title(\"Test Loss\")\n",
        "axs[1, 1].plot(test_acc)\n",
        "axs[1, 1].set_title(\"Test Accuracy\")"
      ],
      "execution_count": 0,
      "outputs": [
        {
          "output_type": "execute_result",
          "data": {
            "text/plain": [
              "Text(0.5, 1.0, 'Test Accuracy')"
            ]
          },
          "metadata": {
            "tags": []
          },
          "execution_count": 30
        },
        {
          "output_type": "display_data",
          "data": {
            "image/png": "[encoded data removed]",
            "text/plain": [
              "<Figure size 1080x720 with 4 Axes>"
            ]
          },
          "metadata": {
            "tags": []
          }
        }
      ]
    }
  ]
}